{
  "nbformat": 4,
  "nbformat_minor": 0,
  "metadata": {
    "colab": {
      "provenance": [],
      "authorship_tag": "ABX9TyNUf4dox2nCxI9xzsv21Kw/",
      "include_colab_link": true
    },
    "kernelspec": {
      "name": "python3",
      "display_name": "Python 3"
    },
    "language_info": {
      "name": "python"
    }
  },
  "cells": [
    {
      "cell_type": "markdown",
      "metadata": {
        "id": "view-in-github",
        "colab_type": "text"
      },
      "source": [
        "<a href=\"https://colab.research.google.com/github/DilsonCampos/Opera-es-em-Listas_linear-/blob/main/untitled9.ipynb\" target=\"_parent\"><img src=\"https://colab.research.google.com/assets/colab-badge.svg\" alt=\"Open In Colab\"/></a>"
      ]
    },
    {
      "cell_type": "code",
      "source": [
        "# Node class\n",
        "class Node:\n",
        "\n",
        "\t# Function to initialize the node object\n",
        "\tdef __init__(self, data):\n",
        "\t\tself.data = data # Assign data\n",
        "\t\tself.next = None # Initialize\n",
        "\t\t# next as null\n",
        "\n",
        "# Linked List class\n",
        "\n",
        "\n",
        "class LinkedList:\n",
        "\n",
        "\t# Function to initialize the Linked\n",
        "\t# List object\n",
        "\tdef __init__(self):\n",
        "\t\tself.head = None\n"
      ],
      "metadata": {
        "id": "yUhl_k8MdAKC"
      },
      "execution_count": null,
      "outputs": []
    },
    {
      "cell_type": "code",
      "execution_count": null,
      "metadata": {
        "id": "txrGbKXtZDAN"
      },
      "outputs": [],
      "source": [
        "# Programa Python para percorrer uma lista encadeada\n",
        "# Classe Nó\n",
        "\n",
        "\n",
        "class Node:\n",
        "\n",
        "# Função para inicializar o objeto\n",
        "\tdef __init__(self, data):\n",
        "\t\tself.data = data\n",
        "\t\tself.next = None \n",
        "    "
      ]
    },
    {
      "cell_type": "code",
      "source": [
        "# A classe LinkedList contém um objeto Node\n",
        "class LinkedList:\n",
        "  \n",
        "# Esta função imprime o conteúdo da lista \n",
        "# Começando aqui\n",
        "\tdef printList(self):\n",
        "\t\ttemp = self.head\n",
        "\t\twhile (temp):\n",
        "\t\t\tprint(temp.data)\n",
        "\t\t\ttemp = temp.next"
      ],
      "metadata": {
        "id": "o9Fu4MuQy9QG"
      },
      "execution_count": null,
      "outputs": []
    },
    {
      "cell_type": "code",
      "source": [
        "# A execução do código \n",
        "\n",
        "if __name__ == '__main__':\n",
        "\n",
        "\t# Start with the empty list\n",
        "\tllist = LinkedList()\n",
        "\n",
        "\tllist.head = Node(20)\n",
        "\tsecond = Node(50)\n",
        "\tthird = Node(100)\n",
        "\n",
        "\tllist.head.next = second # Vincule o primeiro nó ao segundo\n",
        "\tsecond.next = third # Vincula o segundo nó com o terceiro nó\n",
        "\tllist.printList()\n"
      ],
      "metadata": {
        "colab": {
          "base_uri": "https://localhost:8080/"
        },
        "id": "Me0dPkCAcAc0",
        "outputId": "f69fdeb7-2e71-4888-9b6a-8affd7a33646"
      },
      "execution_count": null,
      "outputs": [
        {
          "output_type": "stream",
          "name": "stdout",
          "text": [
            "20\n",
            "50\n",
            "100\n"
          ]
        }
      ]
    }
  ]
}